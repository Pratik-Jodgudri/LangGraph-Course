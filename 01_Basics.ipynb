{
 "cells": [
  {
   "cell_type": "markdown",
   "metadata": {},
   "source": [
    "### Basic Concepts: Nodes, Edges & State"
   ]
  },
  {
   "cell_type": "code",
   "execution_count": 1,
   "metadata": {},
   "outputs": [],
   "source": [
    "from typing import TypedDict\n",
    "from langgraph.graph import StateGraph, START, END\n",
    "\n",
    "class State(TypedDict):\n",
    "    string_val: str\n",
    "    num_val: int\n",
    "\n",
    "def modify_state(input: State):\n",
    "    print(f'Current val: {input}')\n",
    "    return input\n",
    "\n",
    "graph = StateGraph(State)\n",
    "\n",
    "graph.add_node('node_a', modify_state)\n",
    "graph.add_node('node_b', modify_state)\n",
    "graph.add_edge(START, 'node_a')\n",
    "graph.add_edge('node_a', 'node_b')\n",
    "graph.add_edge('node_b', END)\n",
    "\n",
    "runnable = graph.compile()"
   ]
  },
  {
   "cell_type": "code",
   "execution_count": 1,
   "metadata": {},
   "outputs": [],
   "source": [
    "from typing import TypedDict\n",
    "from langgraph.graph import END, START, StateGraph\n",
    "\n",
    "\n",
    "class InputState(TypedDict):\n",
    "    string_value: str\n",
    "    numeric_value: int\n",
    "\n",
    "\n",
    "def modify_state(input: InputState):\n",
    "    print(f\"Current value: {input}\")\n",
    "    return input\n",
    "\n",
    "\n",
    "graph = StateGraph(InputState)\n",
    "\n",
    "graph.add_node(\"branch_a\", modify_state)\n",
    "graph.add_node(\"branch_b\", modify_state)\n",
    "graph.add_edge(START, \"branch_a\")\n",
    "graph.add_edge(\"branch_a\", \"branch_b\")\n",
    "graph.add_edge(\"branch_b\", END)\n",
    "\n",
    "graph.set_entry_point(\"branch_a\")\n",
    "\n",
    "runnable = graph.compile()"
   ]
  },
  {
   "cell_type": "markdown",
   "metadata": {},
   "source": [
    "### Visualize graph"
   ]
  },
  {
   "cell_type": "code",
   "execution_count": 2,
   "metadata": {},
   "outputs": [
    {
     "data": {
      "image/png": "[encoded data removed]",
      "text/plain": [
       "<IPython.core.display.Image object>"
      ]
     },
     "metadata": {},
     "output_type": "display_data"
    }
   ],
   "source": [
    "from IPython.display import Image, display\n",
    "from langchain_core.runnables.graph import MermaidDrawMethod\n",
    "\n",
    "display(\n",
    "    Image(\n",
    "        runnable.get_graph().draw_mermaid_png(\n",
    "            draw_method=MermaidDrawMethod.API,\n",
    "        )\n",
    "    )\n",
    ")"
   ]
  },
  {
   "cell_type": "code",
   "execution_count": 3,
   "metadata": {},
   "outputs": [
    {
     "name": "stdout",
     "output_type": "stream",
     "text": [
      "Current val: {}\n",
      "Current val: {}\n"
     ]
    }
   ],
   "source": [
    "runnable.invoke({\"string_value\": \"a\"})"
   ]
  },
  {
   "cell_type": "code",
   "execution_count": 4,
   "metadata": {},
   "outputs": [
    {
     "name": "stdout",
     "output_type": "stream",
     "text": [
      "Current val: {}\n",
      "Current val: {}\n"
     ]
    }
   ],
   "source": [
    "runnable.invoke({\"string_value\": \"a\", \"numeric_value\": 1})"
   ]
  },
  {
   "cell_type": "code",
   "execution_count": 9,
   "metadata": {},
   "outputs": [
    {
     "data": {
      "text/plain": [
       "{'string_val': 'aa', 'num_val': 2}"
      ]
     },
     "execution_count": 9,
     "metadata": {},
     "output_type": "execute_result"
    }
   ],
   "source": [
    "def modify_state(input: State):\n",
    "    input['string_val'] += 'a'\n",
    "    input['num_val'] += 1\n",
    "    return input\n",
    "\n",
    "graph = StateGraph(State)\n",
    "\n",
    "graph.add_node(\"branch_a\", modify_state)\n",
    "graph.add_node(\"branch_b\", modify_state)\n",
    "graph.add_edge(START, \"branch_a\")\n",
    "graph.add_edge(\"branch_a\", \"branch_b\")\n",
    "graph.add_edge(\"branch_b\", END)\n",
    "runnable = graph.compile()\n",
    "\n",
    "runnable.invoke({'string_val': '', 'num_val': 0})"
   ]
  },
  {
   "cell_type": "code",
   "execution_count": 5,
   "metadata": {},
   "outputs": [],
   "source": [
    "def modify_state(input: InputState):\n",
    "    input[\"string_value\"] += \"a\"\n",
    "    input[\"numeric_value\"] += 1\n",
    "    return input\n",
    "\n",
    "\n",
    "graph = StateGraph(InputState)\n",
    "\n",
    "graph.add_node(\"branch_a\", modify_state)\n",
    "graph.add_node(\"branch_b\", modify_state)\n",
    "graph.add_edge(\"branch_a\", \"branch_b\")\n",
    "graph.add_edge(\"branch_b\", END)\n",
    "\n",
    "\n",
    "graph.set_entry_point(\"branch_a\")\n",
    "\n",
    "runnable = graph.compile()"
   ]
  },
  {
   "cell_type": "code",
   "execution_count": null,
   "metadata": {},
   "outputs": [],
   "source": [
    "try:\n",
    "    runnable.invoke({\"string_value\": \"a\"})\n",
    "except KeyError as e:\n",
    "    print(e)"
   ]
  },
  {
   "cell_type": "code",
   "execution_count": null,
   "metadata": {},
   "outputs": [],
   "source": [
    "runnable.invoke({\"string_value\": \"a\", \"numeric_value\": 1})"
   ]
  },
  {
   "cell_type": "markdown",
   "metadata": {},
   "source": [
    "### Why not use just LCEL?"
   ]
  },
  {
   "cell_type": "code",
   "execution_count": 8,
   "metadata": {},
   "outputs": [],
   "source": [
    "from langchain_core.runnables import RunnableLambda"
   ]
  },
  {
   "cell_type": "code",
   "execution_count": 9,
   "metadata": {},
   "outputs": [],
   "source": [
    "runnable = RunnableLambda(modify_state)\n",
    "\n",
    "chain = runnable | runnable"
   ]
  },
  {
   "cell_type": "code",
   "execution_count": null,
   "metadata": {},
   "outputs": [],
   "source": [
    "chain.invoke({\"string_value\": \"a\", \"numeric_value\": 1})"
   ]
  },
  {
   "cell_type": "markdown",
   "metadata": {},
   "source": [
    "### Cycles and Conditional Edges"
   ]
  },
  {
   "cell_type": "code",
   "execution_count": 11,
   "metadata": {},
   "outputs": [],
   "source": [
    "def modify_state(input: InputState):\n",
    "    input[\"string_value\"] += \"a\"\n",
    "    input[\"numeric_value\"] += 1\n",
    "    return input\n",
    "\n",
    "\n",
    "def router(input: InputState):\n",
    "    if input[\"numeric_value\"] < 5:\n",
    "        return \"branch_a\"\n",
    "    else:\n",
    "        return \"__end__\"\n",
    "\n",
    "\n",
    "graph = StateGraph(InputState)\n",
    "\n",
    "graph.add_node(\"branch_a\", modify_state)\n",
    "graph.add_node(\"branch_b\", modify_state)\n",
    "graph.add_edge(\"branch_a\", \"branch_b\")\n",
    "graph.add_conditional_edges(\n",
    "    \"branch_b\", router, {\"branch_a\": \"branch_a\", \"__end__\": END}\n",
    ")\n",
    "\n",
    "graph.set_entry_point(\"branch_a\")\n",
    "\n",
    "runnable = graph.compile()"
   ]
  },
  {
   "cell_type": "code",
   "execution_count": 10,
   "metadata": {},
   "outputs": [],
   "source": [
    "def router(input: State):\n",
    "    if input['num_val'] < 5:\n",
    "        return 'node_a'\n",
    "    else:\n",
    "        return '__end__'\n",
    "\n",
    "graph = StateGraph(State)\n",
    "graph.add_node('node_a', modify_state)\n",
    "graph.add_node('node_b', modify_state)\n",
    "graph.add_edge(START, 'node_a')\n",
    "graph.add_edge('node_a', 'node_b')\n",
    "graph.add_conditional_edges(\n",
    "    'node_b',\n",
    "    router,\n",
    "    {'node_a': 'node_a', '__end__': END}\n",
    ")\n",
    "\n",
    "runnable = graph.compile()\n"
   ]
  },
  {
   "cell_type": "code",
   "execution_count": 11,
   "metadata": {},
   "outputs": [
    {
     "data": {
      "text/plain": [
       "{'string_val': 'aaaaa', 'num_val': 5}"
      ]
     },
     "execution_count": 11,
     "metadata": {},
     "output_type": "execute_result"
    }
   ],
   "source": [
    "runnable.invoke({'string_val': 'a', 'num_val': 1})"
   ]
  },
  {
   "cell_type": "code",
   "execution_count": null,
   "metadata": {},
   "outputs": [],
   "source": [
    "from IPython.display import Image, display\n",
    "from langchain_core.runnables.graph import MermaidDrawMethod\n",
    "\n",
    "display(\n",
    "    Image(\n",
    "        runnable.get_graph().draw_mermaid_png(\n",
    "            draw_method=MermaidDrawMethod.API,\n",
    "        )\n",
    "    )\n",
    ")"
   ]
  },
  {
   "cell_type": "code",
   "execution_count": null,
   "metadata": {},
   "outputs": [],
   "source": [
    "runnable.invoke({\"string_value\": \"a\", \"numeric_value\": 1})"
   ]
  },
  {
   "cell_type": "markdown",
   "metadata": {},
   "source": [
    "### Reducer functions"
   ]
  },
  {
   "cell_type": "code",
   "execution_count": 2,
   "metadata": {},
   "outputs": [
    {
     "data": {
      "text/plain": [
       "{'constant': 'a', 'str_val': 'aaaa', 'num_val': 4, 'ls': ['a', 'a', 'a', 'a']}"
      ]
     },
     "execution_count": 2,
     "metadata": {},
     "output_type": "execute_result"
    }
   ],
   "source": [
    "from typing import TypedDict, Annotated\n",
    "from langgraph.graph import START, END, StateGraph\n",
    "from operator import add\n",
    "\n",
    "class State(TypedDict):\n",
    "    constant: str\n",
    "    str_val: Annotated[str, add]\n",
    "    num_val: Annotated[int, add]\n",
    "    ls: Annotated[list[str], add]\n",
    "\n",
    "def modify_state(input: State):\n",
    "    return input\n",
    "\n",
    "graph = StateGraph(State)\n",
    "graph.add_node(\"branch_a\", modify_state)\n",
    "graph.add_node(\"branch_b\", modify_state)\n",
    "graph.add_edge(START, \"branch_a\")\n",
    "graph.add_edge(\"branch_a\", \"branch_b\")\n",
    "graph.add_edge(\"branch_b\", END)\n",
    "runnable = graph.compile()\n",
    "\n",
    "runnable.invoke({'constant': 'a', 'str_val': 'a', 'num_val': 1, 'ls': ['a']})"
   ]
  },
  {
   "cell_type": "code",
   "execution_count": 14,
   "metadata": {},
   "outputs": [],
   "source": [
    "from typing import TypedDict, Annotated\n",
    "from langgraph.graph import END, StateGraph\n",
    "from operator import add\n",
    "\n",
    "\n",
    "class InputState(TypedDict):\n",
    "    no_change_value: str\n",
    "    string_value: Annotated[str, add]\n",
    "    numeric_value: Annotated[int, add]\n",
    "    list_value: Annotated[list[str], add]\n",
    "\n",
    "\n",
    "def modify_state(input: InputState):\n",
    "    return input"
   ]
  },
  {
   "cell_type": "code",
   "execution_count": 15,
   "metadata": {},
   "outputs": [],
   "source": [
    "graph = StateGraph(InputState)\n",
    "\n",
    "graph.add_node(\"branch_a\", modify_state)\n",
    "graph.add_node(\"branch_b\", modify_state)\n",
    "graph.add_edge(\"branch_a\", \"branch_b\")\n",
    "graph.add_edge(\"branch_b\", END)\n",
    "\n",
    "graph.set_entry_point(\"branch_a\")\n",
    "\n",
    "runnable = graph.compile()"
   ]
  },
  {
   "cell_type": "code",
   "execution_count": null,
   "metadata": {},
   "outputs": [],
   "source": [
    "runnable.invoke(\n",
    "    {\n",
    "        \"no_change_value\": \"a\",\n",
    "        \"string_value\": \"a\",\n",
    "        \"numeric_value\": 1,\n",
    "        \"list_value\": [\"a\"],\n",
    "    }\n",
    ")"
   ]
  },
  {
   "cell_type": "markdown",
   "metadata": {},
   "source": [
    "### Alternative State"
   ]
  },
  {
   "cell_type": "code",
   "execution_count": 7,
   "metadata": {},
   "outputs": [],
   "source": [
    "from typing import TypedDict\n",
    "from langgraph.graph import END, StateGraph\n",
    "\n",
    "from pydantic import BaseModel\n",
    "\n",
    "# class InputState(TypedDict):\n",
    "#     string_value: str\n",
    "#     numeric_value: int\n",
    "\n",
    "\n",
    "class InputState(BaseModel):\n",
    "      string_value: str\n",
    "      numeric_value: int\n",
    "\n",
    "\n",
    "def modify_state(input: InputState):\n",
    "    # string_value = input[\"string_value\"]\n",
    "    string_value = input.string_value\n",
    "    print(string_value)\n",
    "    return input\n",
    "\n",
    "\n",
    "graph = StateGraph(InputState)\n",
    "\n",
    "graph.add_node(\"branch_a\", modify_state)\n",
    "graph.add_node(\"branch_b\", modify_state)\n",
    "graph.add_edge(\"branch_a\", \"branch_b\")\n",
    "graph.add_edge(\"branch_b\", END)\n",
    "\n",
    "graph.set_entry_point(\"branch_a\")\n",
    "\n",
    "runnable = graph.compile()"
   ]
  },
  {
   "cell_type": "code",
   "execution_count": 10,
   "metadata": {},
   "outputs": [
    {
     "name": "stdout",
     "output_type": "stream",
     "text": [
      "1 validation error for InputState\n",
      "numeric_value\n",
      "  Input should be a valid integer, unable to parse string as an integer [type=int_parsing, input_value='a', input_type=str]\n",
      "    For further information visit https://errors.pydantic.dev/2.11/v/int_parsing\n"
     ]
    }
   ],
   "source": [
    "try:\n",
    "    runnable.invoke({\"string_value\": \"a\", \"numeric_value\": \"a\"})\n",
    "except Exception as e:\n",
    "    print(e)"
   ]
  },
  {
   "cell_type": "code",
   "execution_count": null,
   "metadata": {},
   "outputs": [],
   "source": []
  }
 ],
 "metadata": {
  "kernelspec": {
   "display_name": ".venv",
   "language": "python",
   "name": "python3"
  },
  "language_info": {
   "codemirror_mode": {
    "name": "ipython",
    "version": 3
   },
   "file_extension": ".py",
   "mimetype": "text/x-python",
   "name": "python",
   "nbconvert_exporter": "python",
   "pygments_lexer": "ipython3",
   "version": "3.13.2"
  }
 },
 "nbformat": 4,
 "nbformat_minor": 2
}
